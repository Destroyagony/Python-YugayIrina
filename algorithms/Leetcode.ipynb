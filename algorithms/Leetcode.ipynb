{
 "cells": [
  {
   "cell_type": "markdown",
   "metadata": {},
   "source": [
    "ЗАДАЧИ:"
   ]
  },
  {
   "cell_type": "markdown",
   "metadata": {},
   "source": [
    "9. Palindrome Number"
   ]
  },
  {
   "cell_type": "code",
   "execution_count": 33,
   "metadata": {},
   "outputs": [
    {
     "data": {
      "text/plain": [
       "True"
      ]
     },
     "execution_count": 33,
     "metadata": {},
     "output_type": "execute_result"
    }
   ],
   "source": [
    "# palindrome (python) - одинаково читающееся в обоих направлениях число, буквосочетание, слово или текст, \n",
    "class Solution:\n",
    "    def isPalindrome(self, x: int) -> bool:  \n",
    "        return str(x) == str(x)[::-1]  # [::-1] означает старт: стоп: шаг (т.к. -1, то шаг с конца)\n",
    "\n",
    "object1 = Solution()     # создание экз.класса \\ создание объекта\n",
    "palindrom = object1.isPalindrome(505) # вызов метода класса\n",
    "palindrom"
   ]
  },
  {
   "cell_type": "markdown",
   "metadata": {},
   "source": [
    "1512. Number of Good Pairs\n",
    "\n"
   ]
  },
  {
   "cell_type": "code",
   "execution_count": 35,
   "metadata": {},
   "outputs": [
    {
     "name": "stdout",
     "output_type": "stream",
     "text": [
      "3\n"
     ]
    }
   ],
   "source": [
    "def numIdenticalPairs(nums):\n",
    "    count = 0  # создаем счетчик\n",
    "    mp = {}  # создаем словарь\n",
    "    for num in nums:  # создаем цикл\n",
    "        if num in mp:  # если num есть в нашем словаре,то\n",
    "            count += mp[num]  # начинай подсчет\n",
    "        mp[num] = mp.get(num, 0) + 1  # Метод Get принимает максимум два параметра: ключ и значение! Код итерируется по каждому элементу нашего словаря и считает сколько совпадений\n",
    "    return count\n",
    "print(numIdenticalPairs([1, 2, 3, 3, 4, 5, 1, 6, 6])) # выводит количество совпадений"
   ]
  },
  {
   "cell_type": "code",
   "execution_count": null,
   "metadata": {},
   "outputs": [],
   "source": []
  }
 ],
 "metadata": {
  "kernelspec": {
   "display_name": "base",
   "language": "python",
   "name": "python3"
  },
  "language_info": {
   "codemirror_mode": {
    "name": "ipython",
    "version": 3
   },
   "file_extension": ".py",
   "mimetype": "text/x-python",
   "name": "python",
   "nbconvert_exporter": "python",
   "pygments_lexer": "ipython3",
   "version": "3.11.4"
  },
  "orig_nbformat": 4
 },
 "nbformat": 4,
 "nbformat_minor": 2
}
