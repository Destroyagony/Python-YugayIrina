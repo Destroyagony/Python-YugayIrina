{
 "cells": [
  {
   "cell_type": "code",
   "execution_count": null,
   "metadata": {},
   "outputs": [],
   "source": [
    "# pol = int(integer())\n",
    "#     if pol []\n",
    "\n",
    "name = 'Irina'\n",
    "print(name[::-1]) # start:stop\n",
    "\n",
    "# print(name[::2]) #step"
   ]
  },
  {
   "cell_type": "markdown",
   "metadata": {},
   "source": [
    "ЗАДАЧИ:"
   ]
  },
  {
   "cell_type": "markdown",
   "metadata": {},
   "source": [
    "9. Palindrome Number"
   ]
  },
  {
   "cell_type": "code",
   "execution_count": 7,
   "metadata": {},
   "outputs": [
    {
     "data": {
      "text/plain": [
       "True"
      ]
     },
     "execution_count": 7,
     "metadata": {},
     "output_type": "execute_result"
    }
   ],
   "source": [
    "class Solution:\n",
    "    def isPalindrome(self, x: int) -> bool:\n",
    "        return str(x) == str(x)[::-1]\n",
    "\n",
    "object1 = Solution() # создание экз.класса \\ создание объекта\n",
    "palindrom = object1.isPalindrome(505) # вызов метода класса\n",
    "palindrom"
   ]
  },
  {
   "cell_type": "markdown",
   "metadata": {},
   "source": [
    "1512. Number of Good Pairs\n",
    "\n"
   ]
  },
  {
   "cell_type": "code",
   "execution_count": 2,
   "metadata": {},
   "outputs": [],
   "source": [
    "class Solution:\n",
    "    def numIdenticalPairs(self, nums):\n",
    "        count = 0      #создаем счетчик\n",
    "        mp = {}        # создаем словарь\n",
    "        for num in nums: # создали цикла\n",
    "            if num in mp:  # если номер(индекс) есть в нашем словаре,то\n",
    "                count += mp[num] # используем счетчик\n",
    "            mp[num] = mp.get(num, 0) + 1 #получаем индексы?\n",
    "        return count"
   ]
  }
 ],
 "metadata": {
  "kernelspec": {
   "display_name": "base",
   "language": "python",
   "name": "python3"
  },
  "language_info": {
   "codemirror_mode": {
    "name": "ipython",
    "version": 3
   },
   "file_extension": ".py",
   "mimetype": "text/x-python",
   "name": "python",
   "nbconvert_exporter": "python",
   "pygments_lexer": "ipython3",
   "version": "3.11.4"
  },
  "orig_nbformat": 4
 },
 "nbformat": 4,
 "nbformat_minor": 2
}
