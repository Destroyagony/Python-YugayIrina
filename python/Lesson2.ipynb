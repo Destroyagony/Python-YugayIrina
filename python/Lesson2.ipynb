{
 "cells": [
  {
   "attachments": {},
   "cell_type": "markdown",
   "metadata": {},
   "source": [
    "Linter - это инструмент анализа исходного кода для поиска ошибок и несоответствия стиля кодирования.\n",
    "Flake8 - это Linter \n",
    "Black - инструмент позволяющий автоматизировать стилистику кода по Lonter.\n",
    "Hot key - Sht+Alt+F когда стирочка очень длинная или некрасивая\n"
   ]
  },
  {
   "attachments": {},
   "cell_type": "markdown",
   "metadata": {},
   "source": [
    "Создание виртуального окружения (Создается только один раз в той директории в которой мы работаем) - python -m venv venv \n",
    "Активация виртуального окружения: venv\\Sc+Tab\\a+Tab\n",
    "В Jupiter нужно выбрать Select Kernel\n",
    "Если работаем в файле python.py, то активируемся через терминал.\n"
   ]
  },
  {
   "cell_type": "code",
   "execution_count": null,
   "metadata": {
    "vscode": {
     "languageId": "plaintext"
    }
   },
   "outputs": [],
   "source": [
    "Fork - это копирование репозитория. Необходимо для дальнейшего Pull Request\n",
    "Pull Request - это операция позволяющая передать изменения из нашщего репозитория в репозиторий, который форкнули. Pull Request возможен только после того как мы внесли изменения в наш репозиторий.\n",
    "Сам Pull Request можно сделать только после каких-либо изменений"
   ]
  }
 ],
 "metadata": {
  "language_info": {
   "name": "python"
  },
  "orig_nbformat": 4
 },
 "nbformat": 4,
 "nbformat_minor": 2
}
