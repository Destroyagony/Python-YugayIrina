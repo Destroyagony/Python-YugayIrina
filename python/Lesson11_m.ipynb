{
 "cells": [
  {
   "cell_type": "code",
   "execution_count": null,
   "metadata": {},
   "outputs": [],
   "source": [
    "Math in English!!"
   ]
  },
  {
   "cell_type": "code",
   "execution_count": null,
   "metadata": {},
   "outputs": [],
   "source": [
    "* All entries are in my copybook!\n",
    "* Added a lot of new words to my math-vocabulary.\n",
    "* All words were wrighten with transcriptions \n"
   ]
  },
  {
   "cell_type": "code",
   "execution_count": null,
   "metadata": {},
   "outputs": [],
   "source": [
    "For pronunciation --> https://wooordhunt.ru/\n",
    "For translate from russian to english (and vise versa) --> https://translate.yandex.ru/\n",
    "For new words --->https://www.multitran.com/"
   ]
  }
 ],
 "metadata": {
  "language_info": {
   "name": "python"
  },
  "orig_nbformat": 4
 },
 "nbformat": 4,
 "nbformat_minor": 2
}
