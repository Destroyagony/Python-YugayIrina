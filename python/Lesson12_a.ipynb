{
 "cells": [
  {
   "cell_type": "code",
   "execution_count": null,
   "metadata": {},
   "outputs": [],
   "source": [
    "Алгоритмы и структуры данных.\n",
    "\n",
    "BIG O NOTATION (БигО нотация)- это нотация описывает сложность алгоритмов.\n",
    "Для этого используется понятие времени.\n",
    "БигО означает- за сколько шагов обработает алгоритм в наихудшем случае.\n",
    "БигО-это запись в математических выражениях, которые используются в алгоритмах для описания их вычислительных сложностей\n",
    "Простыми словами:\n",
    "БигО показывает наихудший случай работы алгоритма.\n"
   ]
  },
  {
   "cell_type": "code",
   "execution_count": null,
   "metadata": {},
   "outputs": [],
   "source": [
    "Time"
   ]
  },
  {
   "cell_type": "code",
   "execution_count": null,
   "metadata": {},
   "outputs": [],
   "source": []
  }
 ],
 "metadata": {
  "language_info": {
   "name": "python"
  },
  "orig_nbformat": 4
 },
 "nbformat": 4,
 "nbformat_minor": 2
}
