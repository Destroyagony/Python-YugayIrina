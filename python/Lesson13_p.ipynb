{
 "cells": [
  {
   "cell_type": "code",
   "execution_count": null,
   "metadata": {},
   "outputs": [],
   "source": [
    "Модуль-это файл c расширением .py \n",
    "Пакет -это набор модулей\n",
    "Анаконда-это набор пакетов для DS\n"
   ]
  },
  {
   "cell_type": "code",
   "execution_count": null,
   "metadata": {},
   "outputs": [],
   "source": [
    "import numpy as np\n",
    "# Справа от as, то есть np- псевдоним простарнство имен.\n",
    "# Рандомное название/ по соглашению разработчиков \n",
    "# Если нет соглашения, то любое название\n",
    "\n"
   ]
  },
  {
   "cell_type": "code",
   "execution_count": null,
   "metadata": {},
   "outputs": [],
   "source": [
    "Процесс сбора данных-это парсинг.\n",
    "Занимается разработчик, а не DS\n",
    "Чаще всего данные упаковывают в формат csv (то есть, весь текст через запятую)"
   ]
  },
  {
   "cell_type": "code",
   "execution_count": null,
   "metadata": {},
   "outputs": [],
   "source": [
    "NumPy (для хранения данных, матрицы)— это библиотека Python, которую применяют для математических вычислений: начиная с базовых функций и заканчивая линейной алгеброй."
   ]
  },
  {
   "cell_type": "code",
   "execution_count": null,
   "metadata": {},
   "outputs": [],
   "source": [
    "Pandas — это библиотека Python для обработки и анализа структурированных данных, её название происходит от «panel data» («панельные данные»)."
   ]
  },
  {
   "cell_type": "code",
   "execution_count": null,
   "metadata": {},
   "outputs": [],
   "source": [
    "В Pandas существует основные 2 структуры хранения данных: Series и DataFrame."
   ]
  },
  {
   "cell_type": "code",
   "execution_count": null,
   "metadata": {},
   "outputs": [],
   "source": [
    "DataFrame — это проиндексированный многомерный массив значений, соответственно каждый столбец DataFrame, является структурой Series."
   ]
  },
  {
   "cell_type": "code",
   "execution_count": null,
   "metadata": {},
   "outputs": [],
   "source": [
    "DataFrame - Дата фреймы (data frame) - прямоугольная двумерная таблица с данными"
   ]
  },
  {
   "cell_type": "code",
   "execution_count": null,
   "metadata": {},
   "outputs": [],
   "source": [
    "Мода - \n",
    "Медиана - "
   ]
  },
  {
   "cell_type": "code",
   "execution_count": null,
   "metadata": {},
   "outputs": [],
   "source": [
    "Функция mode() в Python - находит значение, которое чаще встречается в предоставленном наборе значений данных.\n",
    "(Источник: https://pythonpip.ru/osnovy/funktsiya-mode-v-python-modulya-statistics)\n",
    "Например:\n",
    "У нас есть набор A = {4, 5, 6, 6, 7, 8, 9}. Поскольку цифра 6 имеет более высокую частоту, поэтому режим набора A равен 6. \n",
    "\n"
   ]
  }
 ],
 "metadata": {
  "kernelspec": {
   "display_name": "venv",
   "language": "python",
   "name": "python3"
  },
  "language_info": {
   "name": "python",
   "version": "3.11.4"
  },
  "orig_nbformat": 4
 },
 "nbformat": 4,
 "nbformat_minor": 2
}
